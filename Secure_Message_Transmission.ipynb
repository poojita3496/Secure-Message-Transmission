{
  "nbformat": 4,
  "nbformat_minor": 0,
  "metadata": {
    "colab": {
      "provenance": [],
      "authorship_tag": "ABX9TyO+iDbg6vRt6Mx4wXaCl7aM",
      "include_colab_link": true
    },
    "kernelspec": {
      "name": "python3",
      "display_name": "Python 3"
    },
    "language_info": {
      "name": "python"
    }
  },
  "cells": [
    {
      "cell_type": "markdown",
      "metadata": {
        "id": "view-in-github",
        "colab_type": "text"
      },
      "source": [
        "<a href=\"https://colab.research.google.com/github/poojita3496/Secure-Message-Transmission/blob/main/Secure_Message_Transmission.ipynb\" target=\"_parent\"><img src=\"https://colab.research.google.com/assets/colab-badge.svg\" alt=\"Open In Colab\"/></a>"
      ]
    },
    {
      "cell_type": "code",
      "execution_count": 2,
      "metadata": {
        "colab": {
          "base_uri": "https://localhost:8080/"
        },
        "id": "E9uBrAQInWc7",
        "outputId": "2fef75dd-255c-4fd0-e7cc-61d75585a674"
      },
      "outputs": [
        {
          "output_type": "stream",
          "name": "stdout",
          "text": [
            "Enter a prime number (p): 5\n",
            "Enter a generator (g): 3\n",
            "Sender's private key: 4\n",
            "Receiver's private key: 1\n",
            "Enter the message to send: project\n",
            "\n",
            "=== Sender's Output ===\n",
            "Encrypted Message: qspkfdu\n",
            "MAC: 2513f132e8ce6f5db5dffb620c821c51cf21749d53fcacaf2bb078f8075ec470\n",
            "\n",
            "=== Receiver's Verification ===\n",
            "Enter the received encrypted message: qspkfdu\n",
            "Enter the received MAC: 2513f132e8ce6f5db5dffb620c821c51cf21749d53fcacaf2bb078f8075ec470\n",
            "\n",
            "=== Receiver's Output ===\n",
            "Decrypted Message: project\n",
            "MAC Valid: True\n"
          ]
        }
      ],
      "source": [
        "import hashlib\n",
        "\n",
        "#Diffie-Hellman Key Exchange to Generate Shared Secret Key\n",
        "def diffie_hellman_key_exchange(p, g, sender_private_key, receiver_private_key):\n",
        "    # Public keys calculated by sender and receiver\n",
        "    sender_public_key = (g ** sender_private_key) % p\n",
        "    receiver_public_key = (g ** receiver_private_key) % p\n",
        "\n",
        "    # Shared secret key calculation\n",
        "    shared_secret_sender = (receiver_public_key ** sender_private_key) % p\n",
        "    shared_secret_receiver = (sender_public_key ** receiver_private_key) % p\n",
        "\n",
        "    # Both values should be the same\n",
        "    assert shared_secret_sender == shared_secret_receiver\n",
        "\n",
        "    return shared_secret_sender\n",
        "\n",
        "#Sender Side - Encrypting Message with Caesar Cipher and Creating MAC\n",
        "def caesar_cipher_encrypt(message, key):\n",
        "    encrypted_message = \"\"\n",
        "    for char in message:\n",
        "        if char.isalpha():\n",
        "            shift = key % 26\n",
        "            new_char = chr((ord(char.lower()) - ord('a') + shift) % 26 + ord('a'))\n",
        "            encrypted_message += new_char\n",
        "        else:\n",
        "            encrypted_message += char\n",
        "    return encrypted_message\n",
        "\n",
        "def generate_mac(message, key):\n",
        "    hash_object = hashlib.sha256((message + str(key)).encode())\n",
        "    return hash_object.hexdigest()\n",
        "\n",
        "#Send Encrypted Message and MAC to Receiver\n",
        "def send_message(message, key):\n",
        "    encrypted_message = caesar_cipher_encrypt(message, key)\n",
        "    mac = generate_mac(message, key)\n",
        "    return encrypted_message, mac\n",
        "\n",
        "#Receiver Side - Decrypting Message and Verifying MAC\n",
        "def caesar_cipher_decrypt(encrypted_message, key):\n",
        "    decrypted_message = \"\"\n",
        "    for char in encrypted_message:\n",
        "        if char.isalpha():\n",
        "            shift = key % 26\n",
        "            new_char = chr((ord(char.lower()) - ord('a') - shift) % 26 + ord('a'))\n",
        "            decrypted_message += new_char\n",
        "        else:\n",
        "            decrypted_message += char\n",
        "    return decrypted_message\n",
        "\n",
        "def verify_mac(message, mac, key):\n",
        "    expected_mac = generate_mac(message, key)\n",
        "    return mac == expected_mac\n",
        "\n",
        "# Main Process\n",
        "def main():\n",
        "    # User Input for Diffie-Hellman Key Exchange\n",
        "    p = int(input(\"Enter a prime number (p): \"))  # Prime number\n",
        "    g = int(input(\"Enter a generator (g): \"))  # Generator\n",
        "\n",
        "    sender_private_key = int(input(\"Sender's private key: \"))\n",
        "    receiver_private_key = int(input(\"Receiver's private key: \"))\n",
        "\n",
        "    # Generate shared secret key using Diffie-Hellman key exchange\n",
        "    shared_key = diffie_hellman_key_exchange(p, g, sender_private_key, receiver_private_key)\n",
        "\n",
        "    # Sender: Encrypt message and generate MAC\n",
        "    original_message = input(\"Enter the message to send: \")\n",
        "    encrypted_message, mac = send_message(original_message, shared_key)\n",
        "\n",
        "    print(\"\\n=== Sender's Output ===\")\n",
        "    print(\"Encrypted Message:\", encrypted_message)\n",
        "    print(\"MAC:\", mac)\n",
        "\n",
        "    # Receiver: Verify the received message and MAC\n",
        "    print(\"\\n=== Receiver's Verification ===\")\n",
        "    received_encrypted_message = input(\"Enter the received encrypted message: \")\n",
        "    received_mac = input(\"Enter the received MAC: \")\n",
        "\n",
        "    decrypted_message = caesar_cipher_decrypt(received_encrypted_message, shared_key)\n",
        "    mac_valid = verify_mac(decrypted_message, received_mac, shared_key)\n",
        "\n",
        "    print(\"\\n=== Receiver's Output ===\")\n",
        "    print(\"Decrypted Message:\", decrypted_message)\n",
        "    print(\"MAC Valid:\", mac_valid)\n",
        "\n",
        "if __name__ == \"__main__\":\n",
        "    main()"
      ]
    }
  ]
}